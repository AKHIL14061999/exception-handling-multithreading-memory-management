{
 "cells": [
  {
   "cell_type": "markdown",
   "id": "c836b64d-3fc8-462a-8e85-bd5aa75d96b1",
   "metadata": {},
   "source": [
    "Q1.- What is multithreading in python? Why is it used? Name the module used to handle threads in python."
   ]
  },
  {
   "cell_type": "raw",
   "id": "a14a5363-1481-49cd-a9ab-2fe6b4a2ffaa",
   "metadata": {},
   "source": [
    "Ans- Multithreading is a threading technique in Python programming to run multiple threads concurrently by rapidly switching between threads with the help of CPU.\n",
    "It is a very useful technique for time-saving and improving the performance of an application. Multithreading allows the programmer to divide application tasks into sub-tasks and simultaneously run them in a program. It allows threads to communicate and share resources such as files, data, and memory to the same processorhreading module is used for creating, controlling and managing threads in python.\n",
    "The Threading module is used for creating, controlling and managing threads in python.\n",
    " "
   ]
  },
  {
   "cell_type": "markdown",
   "id": "d1d2e49f-76aa-4d51-b52e-a0f5b19baaf9",
   "metadata": {},
   "source": [
    "Q2.- Why threading module used? Write the use of the following functions\n",
    "activeCount()\n",
    "currentThread()\n",
    "enumerate()"
   ]
  },
  {
   "cell_type": "raw",
   "id": "4a9a7631-ff86-4084-bb8c-811d68ef25a5",
   "metadata": {},
   "source": [
    "Ans- Python threads are used in cases where the execution of a task involves some waiting. One example would be interaction with a service hosted on another computer, such as a webserver. Threading allows python to execute other code while waiting; this is easily simulated with the sleep function.\n",
    "threading.activeCount() − Returns the number of thread objects that are active.\n",
    "threading.currentThread() − Returns the number of thread objects in the caller's thread control.\n",
    "threading.enumerate() − Returns a list of all thread objects that are currently active."
   ]
  },
  {
   "cell_type": "markdown",
   "id": "063ece41-8cb1-430e-a9a0-735568818d4e",
   "metadata": {},
   "source": [
    "3. Explain the following functions\n",
    "run()\n",
    "start()\n",
    "join()\n",
    "isAlive()"
   ]
  },
  {
   "cell_type": "code",
   "execution_count": null,
   "id": "b8f61c97-f45f-4a62-9a06-15512cfcc229",
   "metadata": {},
   "outputs": [],
   "source": [
    "Ans- run() − The run() method is the entry point for a thread.\n",
    "start() − The start() method starts a thread by calling the run method.\n",
    "join([time]) − The join() waits for threads to terminate.\n",
    "isAlive() − The isAlive() method checks whether a thread is still executing.\n",
    " "
   ]
  },
  {
   "cell_type": "markdown",
   "id": "0beb42c1-39c4-4232-807f-587cb7d223d0",
   "metadata": {},
   "source": [
    "Q4. Write a python program to create two threads. Thread one must print the list of squares and thread two must print the list of cubes"
   ]
  },
  {
   "cell_type": "code",
   "execution_count": 1,
   "id": "c1c1b480-f298-4603-a5d2-5706c96ad00e",
   "metadata": {},
   "outputs": [
    {
     "name": "stdout",
     "output_type": "stream",
     "text": [
      "Square: 100\n",
      "Cube: 1000\n"
     ]
    }
   ],
   "source": [
    "import threading\n",
    " \n",
    "def print_cube(num):\n",
    "    print(\"Cube: {}\" .format(num * num * num))\n",
    " \n",
    " \n",
    "def print_square(num):\n",
    "    print(\"Square: {}\" .format(num * num))\n",
    "if __name__ ==\"__main__\":\n",
    "    \n",
    "    t1 = threading.Thread(target=print_square, args=(10,))\n",
    "    t2 = threading.Thread(target=print_cube, args=(10,)) \n",
    "        \n",
    "    t1.start()\n",
    "    t2.start()\n",
    "    t1.join()\n",
    "    t2.join()\n",
    "  "
   ]
  },
  {
   "cell_type": "markdown",
   "id": "cf539326-5837-4c92-ba2d-3e5ae0ca3b37",
   "metadata": {},
   "source": [
    "Q5.- State advantages and disadvantages of multithreading."
   ]
  },
  {
   "cell_type": "raw",
   "id": "69452c77-f7ef-4bef-9ba0-454df446e3dc",
   "metadata": {},
   "source": [
    "Ans- Advantages:-\n",
    "1- Improved performance and concurrency\n",
    "2- Improved throughput.\n",
    "3- Superior application responsiveness.\n",
    "4- Improved server responsiveness.\n",
    "5- Minimized system resource usage.\n",
    "6- Program structure simplification.\n",
    "Disadvantages:-\n",
    "1- Difficulty of writing code. Multithreaded and multicontexted applications are not easy to write.\n",
    "2- Difficulty of debugging.\n",
    "3- Difficulty of managing concurrency.\n",
    "4- Difficulty of testing.\n",
    "5- Difficulty of porting existing code."
   ]
  },
  {
   "cell_type": "code",
   "execution_count": null,
   "id": "6c193f9e-27b5-4fe9-b85c-b74725ce164c",
   "metadata": {},
   "outputs": [],
   "source": []
  },
  {
   "cell_type": "code",
   "execution_count": null,
   "id": "4d92a2e0-8609-40ac-8ccf-8e357d948ac3",
   "metadata": {},
   "outputs": [],
   "source": []
  },
  {
   "cell_type": "markdown",
   "id": "79455366-3f62-4a47-82d0-2937e4fc85a2",
   "metadata": {},
   "source": []
  }
 ],
 "metadata": {
  "kernelspec": {
   "display_name": "Python 3 (ipykernel)",
   "language": "python",
   "name": "python3"
  },
  "language_info": {
   "codemirror_mode": {
    "name": "ipython",
    "version": 3
   },
   "file_extension": ".py",
   "mimetype": "text/x-python",
   "name": "python",
   "nbconvert_exporter": "python",
   "pygments_lexer": "ipython3",
   "version": "3.10.8"
  }
 },
 "nbformat": 4,
 "nbformat_minor": 5
}
