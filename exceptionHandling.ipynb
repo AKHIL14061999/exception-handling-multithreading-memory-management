{
 "cells": [
  {
   "cell_type": "raw",
   "id": "89116d42-f153-4ed3-8e23-d76519200d98",
   "metadata": {},
   "source": [
    "Ans-1...An exception is an event, which occurs during the execution of a program that disrupts the normal flow of the program's instructions. In general, when a Python script encounters a situation that it cannot cope with, it raises an exception Difference between exception and syntax errors are-\n",
    "\n",
    "SYNTAX ERRORS-The syntax error exception occurs when the code does not conform to Python keywords, naming style, or programming structure. The interpreter sees the invalid syntax during its parsing phase and raises a SyntaxError exception. The program stops and fails at the point where the syntax error happened."
   ]
  },
  {
   "cell_type": "code",
   "execution_count": 1,
   "id": "16c2186d-4031-4d18-b65c-244b5b246504",
   "metadata": {},
   "outputs": [
    {
     "ename": "ZeroDivisionError",
     "evalue": "division by zero",
     "output_type": "error",
     "traceback": [
      "\u001b[0;31m---------------------------------------------------------------------------\u001b[0m",
      "\u001b[0;31mZeroDivisionError\u001b[0m                         Traceback (most recent call last)",
      "Cell \u001b[0;32mIn[1], line 4\u001b[0m\n\u001b[1;32m      2\u001b[0m a\u001b[38;5;241m=\u001b[39m\u001b[38;5;241m5\u001b[39m\n\u001b[1;32m      3\u001b[0m b\u001b[38;5;241m=\u001b[39m\u001b[38;5;241m0\u001b[39m\n\u001b[0;32m----> 4\u001b[0m \u001b[38;5;28mprint\u001b[39m(\u001b[43ma\u001b[49m\u001b[38;5;241;43m/\u001b[39;49m\u001b[43mb\u001b[49m)\u001b[38;5;66;03m#here the zero division error is given\u001b[39;00m\n",
      "\u001b[0;31mZeroDivisionError\u001b[0m: division by zero"
     ]
    }
   ],
   "source": [
    "###ANS-2When an exception is not handled then the program stop executing the rest of the code and throws an exception.For ex-\n",
    "a=5\n",
    "b=0\n",
    "print(a/b)#here the zero division error is given\n",
    "\n",
    "\n",
    "\n",
    "\n"
   ]
  },
  {
   "cell_type": "code",
   "execution_count": 2,
   "id": "54b7fc7e-4dbd-437f-a94c-4c6903225211",
   "metadata": {},
   "outputs": [
    {
     "name": "stdout",
     "output_type": "stream",
     "text": [
      "the code can not be executed due to file not found\n"
     ]
    }
   ],
   "source": [
    "###Ans-3...Try statement in python is used to catch and exception in python and except statement is used to handle the exception in python.For example-\n",
    "try:\n",
    "    a=open(\"abc.txt\",\"r\")\n",
    "except FileNotFoundError:\n",
    "    print(\"the code can not be executed due to file not found\")\n",
    "    \n",
    "\n",
    "\n"
   ]
  },
  {
   "cell_type": "code",
   "execution_count": 4,
   "id": "36d063b8-d30c-49aa-bfcc-108e9596f12b",
   "metadata": {},
   "outputs": [],
   "source": [
    "###Ans-4...\n",
    "###a.try and else-Try block will catch the exception if it is occured and if there is no exception occured then the else block code will be executed.For example-\n",
    "try:\n",
    "    a=open(\"abc.txt\",\"w\")\n",
    "except FileNotFoundError:\n",
    "    print(\"the code can not be executed due to file not found\")\n",
    "else:\n",
    "    a.write(\"DATA SCIENCE\")\n",
    "    a.close()\n",
    "\n",
    "\n",
    "\n",
    "\n",
    "\n"
   ]
  },
  {
   "cell_type": "code",
   "execution_count": 5,
   "id": "9e9cae2f-f3ff-4c30-8f10-0ba198d3629d",
   "metadata": {},
   "outputs": [
    {
     "name": "stdout",
     "output_type": "stream",
     "text": [
      "The code is been executed\n"
     ]
    }
   ],
   "source": [
    "###ANs-4(b)\n",
    "try:\n",
    "    a=open(\"abc.txt\",\"w\")\n",
    "except FileNotFoundError:\n",
    "    print(\"the code can not be executed due to file not found\")\n",
    "else:\n",
    "    a.write(\"DATA SCIENCE\")\n",
    "    a.close()\n",
    "finally:\n",
    "    print(\"The code is been executed\")"
   ]
  },
  {
   "cell_type": "code",
   "execution_count": 6,
   "id": "4de4778f-7ab8-414c-b191-a31ebfa26cb9",
   "metadata": {},
   "outputs": [
    {
     "ename": "Exception",
     "evalue": "Sorry, no numbers below zero",
     "output_type": "error",
     "traceback": [
      "\u001b[0;31m---------------------------------------------------------------------------\u001b[0m",
      "\u001b[0;31mException\u001b[0m                                 Traceback (most recent call last)",
      "Cell \u001b[0;32mIn[6], line 5\u001b[0m\n\u001b[1;32m      2\u001b[0m x \u001b[38;5;241m=\u001b[39m \u001b[38;5;241m-\u001b[39m\u001b[38;5;241m1\u001b[39m\n\u001b[1;32m      4\u001b[0m \u001b[38;5;28;01mif\u001b[39;00m x \u001b[38;5;241m<\u001b[39m \u001b[38;5;241m0\u001b[39m:\n\u001b[0;32m----> 5\u001b[0m   \u001b[38;5;28;01mraise\u001b[39;00m \u001b[38;5;167;01mException\u001b[39;00m(\u001b[38;5;124m\"\u001b[39m\u001b[38;5;124mSorry, no numbers below zero\u001b[39m\u001b[38;5;124m\"\u001b[39m)\n",
      "\u001b[0;31mException\u001b[0m: Sorry, no numbers below zero"
     ]
    }
   ],
   "source": [
    "###ANS-4(c)\n",
    "x = -1\n",
    "\n",
    "if x < 0:\n",
    "  raise Exception(\"Sorry, no numbers below zero\")\n",
    "\n"
   ]
  },
  {
   "cell_type": "code",
   "execution_count": null,
   "id": "65fe331d-d514-4cc2-8f73-429f8d39a3ca",
   "metadata": {},
   "outputs": [],
   "source": [
    "###Ans-5\n",
    "\n",
    "Sometimes based on project requirement, a programmer needs to create his own exceptions and raise explicitly for corresponding scenarios. Such types of exceptions are called customized Exceptions or Programmatic Exceptions. We can raise a custom exception by using the keyword ‘raise’.\n",
    "\n",
    "\n",
    "\n"
   ]
  },
  {
   "cell_type": "code",
   "execution_count": 7,
   "id": "fe1b909d-c49d-4079-bab3-cd967afef0f2",
   "metadata": {},
   "outputs": [],
   "source": [
    "###Ans-6\n",
    "class Speedcheck(Exception):\n",
    "    def __init__(self,msg):\n",
    "        self.msg=msg\n",
    "def check(speed):\n",
    "    if speed<0:\n",
    "        raise Speedcheck(\"Speed can not be in negative\")\n",
    "    elif speed>500:\n",
    "        raise Speedcheck(\"speed is to high\")"
   ]
  },
  {
   "cell_type": "code",
   "execution_count": null,
   "id": "83f2743e-4e75-4135-a82d-b3d5a2e1eeef",
   "metadata": {},
   "outputs": [],
   "source": [
    "try:\n",
    "    speed=int(input(\"Enter the speed\"))\n",
    "    \n",
    "except handleexception:\n",
    "    raise "
   ]
  },
  {
   "cell_type": "raw",
   "id": "5ce669bf-cb9f-483c-93a1-eeef7f40e47b",
   "metadata": {},
   "source": []
  }
 ],
 "metadata": {
  "kernelspec": {
   "display_name": "Python 3 (ipykernel)",
   "language": "python",
   "name": "python3"
  },
  "language_info": {
   "codemirror_mode": {
    "name": "ipython",
    "version": 3
   },
   "file_extension": ".py",
   "mimetype": "text/x-python",
   "name": "python",
   "nbconvert_exporter": "python",
   "pygments_lexer": "ipython3",
   "version": "3.10.8"
  }
 },
 "nbformat": 4,
 "nbformat_minor": 5
}
